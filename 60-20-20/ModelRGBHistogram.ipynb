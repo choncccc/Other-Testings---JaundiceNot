{
 "cells": [
  {
   "cell_type": "code",
   "execution_count": null,
   "metadata": {},
   "outputs": [],
   "source": [
    "import os\n",
    "import time\n",
    "import numpy as np\n",
    "import io\n",
    "import cv2\n",
    "import pandas as pd\n",
    "from sklearn.utils import shuffle\n",
    "from sklearn.cluster import KMeans\n",
    "import tensorflow as tf\n",
    "import matplotlib.pyplot as plt\n",
    "import PIL\n",
    "from sklearn.preprocessing import StandardScaler\n",
    "from sklearn.metrics import confusion_matrix, classification_report\n",
    "import seaborn as sns\n",
    "from tensorflow.keras.models import Sequential\n",
    "from tensorflow.keras.layers import Dense, Dropout, BatchNormalization, LeakyReLU\n",
    "from tensorflow.keras.optimizers import Adam\n",
    "from tensorflow.keras.regularizers import l2\n",
    "from keras.callbacks import EarlyStopping, ReduceLROnPlateau\n",
    "from tensorflow.keras.metrics import Precision, Recall\n",
    "from tensorflow.keras.utils import load_img, img_to_array"
   ]
  },
  {
   "cell_type": "code",
   "execution_count": null,
   "metadata": {},
   "outputs": [],
   "source": [
    "def extract_color_features(image, bins=10):\n",
    "    lab_image = cv2.cvtColor(image.astype(np.uint8), cv2.COLOR_RGB2LAB)\n",
    "    lightness, a_channel, b_channel = lab_image[:, :, 0], lab_image[:, :, 1], lab_image[:, :, 2]\n",
    "\n",
    "    lightness = lightness / 255.0\n",
    "    a_channel = (a_channel + 128) / 255.0 \n",
    "    b_channel = (b_channel + 128) / 255.0\n",
    "\n",
    "    lightness_hist = np.histogram(lightness, bins=bins, range=(0, 1), density=True)[0]\n",
    "    a_hist = np.histogram(a_channel, bins=bins, range=(0, 1), density=True)[0]\n",
    "    b_hist = np.histogram(b_channel, bins=bins, range=(0, 1), density=True)[0]\n",
    "    \n",
    "    feature_vector = np.concatenate([lightness_hist, a_hist, b_hist])\n",
    "    \n",
    "    return feature_vector"
   ]
  }
 ],
 "metadata": {
  "kernelspec": {
   "display_name": "Python 3",
   "language": "python",
   "name": "python3"
  },
  "language_info": {
   "name": "python",
   "version": "3.12.4"
  }
 },
 "nbformat": 4,
 "nbformat_minor": 2
}
